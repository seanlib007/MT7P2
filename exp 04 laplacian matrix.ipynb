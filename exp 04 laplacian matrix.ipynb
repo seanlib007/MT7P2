{
 "cells": [
  {
   "cell_type": "code",
   "execution_count": 53,
   "id": "antique-costs",
   "metadata": {},
   "outputs": [],
   "source": [
    "def the(G):\n",
    "    G.show(figsize=3)\n",
    "    L=G.laplacian_matrix()\n",
    "    A=G.adjacency_matrix()\n",
    "    show(\"laplacian matrix\",L)\n",
    "    show(\"adjacency matrix\",A)\n",
    "    n=L.dimensions()[0]\n",
    "    for i in G.vertices():\n",
    "        d=diagonal_matrix(n,G.degree())\n",
    "    show(\"degree matrix\",d)\n",
    "    H=G.random_orientation()\n",
    "    H.show(figsize=3)\n",
    "    Q=H.incidence_matrix()\n",
    "    show(\"incidence matrix\",Q)\n",
    "    if L==d-A:\n",
    "        print(\"L=D-A is verified \")\n",
    "    else:\n",
    "        print(\"not proved 3\")\n",
    "    if L==Q*Q.transpose():\n",
    "        print(\"L=Q*QT is verified \")\n",
    "    else:\n",
    "        print(\"not proves 4\")"
   ]
  },
  {
   "cell_type": "code",
   "execution_count": 54,
   "id": "buried-artist",
   "metadata": {},
   "outputs": [
    {
     "data": {
      "image/png": "[encoded data removed]",
      "text/plain": [
       "Graphics object consisting of 15 graphics primitives"
      ]
     },
     "metadata": {},
     "output_type": "display_data"
    },
    {
     "data": {
      "text/html": [
       "<html><script type=\"math/tex; mode=display\">\\newcommand{\\Bold}[1]{\\mathbf{#1}}\\verb|laplacian|\\phantom{\\verb!x!}\\verb|matrix| \\left(\\begin{array}{rrrrrr}\n",
       "2 & -1 & 0 & -1 & 0 & 0 \\\\\n",
       "-1 & 4 & -1 & -1 & -1 & 0 \\\\\n",
       "0 & -1 & 2 & 0 & -1 & 0 \\\\\n",
       "-1 & -1 & 0 & 3 & -1 & 0 \\\\\n",
       "0 & -1 & -1 & -1 & 4 & -1 \\\\\n",
       "0 & 0 & 0 & 0 & -1 & 1\n",
       "\\end{array}\\right)</script></html>"
      ],
      "text/latex": [
       "\\begin{math}\n",
       "\\newcommand{\\Bold}[1]{\\mathbf{#1}}\\verb|laplacian|\\phantom{\\verb!x!}\\verb|matrix| \\left(\\begin{array}{rrrrrr}\n",
       "2 & -1 & 0 & -1 & 0 & 0 \\\\\n",
       "-1 & 4 & -1 & -1 & -1 & 0 \\\\\n",
       "0 & -1 & 2 & 0 & -1 & 0 \\\\\n",
       "-1 & -1 & 0 & 3 & -1 & 0 \\\\\n",
       "0 & -1 & -1 & -1 & 4 & -1 \\\\\n",
       "0 & 0 & 0 & 0 & -1 & 1\n",
       "\\end{array}\\right)\n",
       "\\end{math}"
      ],
      "text/plain": [
       "'laplacian matrix' [ 2 -1  0 -1  0  0]\n",
       "[-1  4 -1 -1 -1  0]\n",
       "[ 0 -1  2  0 -1  0]\n",
       "[-1 -1  0  3 -1  0]\n",
       "[ 0 -1 -1 -1  4 -1]\n",
       "[ 0  0  0  0 -1  1]"
      ]
     },
     "metadata": {},
     "output_type": "display_data"
    },
    {
     "data": {
      "text/html": [
       "<html><script type=\"math/tex; mode=display\">\\newcommand{\\Bold}[1]{\\mathbf{#1}}\\verb|adjacency|\\phantom{\\verb!x!}\\verb|matrix| \\left(\\begin{array}{rrrrrr}\n",
       "0 & 1 & 0 & 1 & 0 & 0 \\\\\n",
       "1 & 0 & 1 & 1 & 1 & 0 \\\\\n",
       "0 & 1 & 0 & 0 & 1 & 0 \\\\\n",
       "1 & 1 & 0 & 0 & 1 & 0 \\\\\n",
       "0 & 1 & 1 & 1 & 0 & 1 \\\\\n",
       "0 & 0 & 0 & 0 & 1 & 0\n",
       "\\end{array}\\right)</script></html>"
      ],
      "text/latex": [
       "\\begin{math}\n",
       "\\newcommand{\\Bold}[1]{\\mathbf{#1}}\\verb|adjacency|\\phantom{\\verb!x!}\\verb|matrix| \\left(\\begin{array}{rrrrrr}\n",
       "0 & 1 & 0 & 1 & 0 & 0 \\\\\n",
       "1 & 0 & 1 & 1 & 1 & 0 \\\\\n",
       "0 & 1 & 0 & 0 & 1 & 0 \\\\\n",
       "1 & 1 & 0 & 0 & 1 & 0 \\\\\n",
       "0 & 1 & 1 & 1 & 0 & 1 \\\\\n",
       "0 & 0 & 0 & 0 & 1 & 0\n",
       "\\end{array}\\right)\n",
       "\\end{math}"
      ],
      "text/plain": [
       "'adjacency matrix' [0 1 0 1 0 0]\n",
       "[1 0 1 1 1 0]\n",
       "[0 1 0 0 1 0]\n",
       "[1 1 0 0 1 0]\n",
       "[0 1 1 1 0 1]\n",
       "[0 0 0 0 1 0]"
      ]
     },
     "metadata": {},
     "output_type": "display_data"
    },
    {
     "data": {
      "text/html": [
       "<html><script type=\"math/tex; mode=display\">\\newcommand{\\Bold}[1]{\\mathbf{#1}}\\verb|degree|\\phantom{\\verb!x!}\\verb|matrix| \\left(\\begin{array}{rrrrrr}\n",
       "2 & 0 & 0 & 0 & 0 & 0 \\\\\n",
       "0 & 4 & 0 & 0 & 0 & 0 \\\\\n",
       "0 & 0 & 2 & 0 & 0 & 0 \\\\\n",
       "0 & 0 & 0 & 3 & 0 & 0 \\\\\n",
       "0 & 0 & 0 & 0 & 4 & 0 \\\\\n",
       "0 & 0 & 0 & 0 & 0 & 1\n",
       "\\end{array}\\right)</script></html>"
      ],
      "text/latex": [
       "\\begin{math}\n",
       "\\newcommand{\\Bold}[1]{\\mathbf{#1}}\\verb|degree|\\phantom{\\verb!x!}\\verb|matrix| \\left(\\begin{array}{rrrrrr}\n",
       "2 & 0 & 0 & 0 & 0 & 0 \\\\\n",
       "0 & 4 & 0 & 0 & 0 & 0 \\\\\n",
       "0 & 0 & 2 & 0 & 0 & 0 \\\\\n",
       "0 & 0 & 0 & 3 & 0 & 0 \\\\\n",
       "0 & 0 & 0 & 0 & 4 & 0 \\\\\n",
       "0 & 0 & 0 & 0 & 0 & 1\n",
       "\\end{array}\\right)\n",
       "\\end{math}"
      ],
      "text/plain": [
       "'degree matrix' [2 0 0 0 0 0]\n",
       "[0 4 0 0 0 0]\n",
       "[0 0 2 0 0 0]\n",
       "[0 0 0 3 0 0]\n",
       "[0 0 0 0 4 0]\n",
       "[0 0 0 0 0 1]"
      ]
     },
     "metadata": {},
     "output_type": "display_data"
    },
    {
     "data": {
      "image/png": "[encoded data removed]",
      "text/plain": [
       "Graphics object consisting of 15 graphics primitives"
      ]
     },
     "metadata": {},
     "output_type": "display_data"
    },
    {
     "data": {
      "text/html": [
       "<html><script type=\"math/tex; mode=display\">\\newcommand{\\Bold}[1]{\\mathbf{#1}}\\verb|incidence|\\phantom{\\verb!x!}\\verb|matrix| \\left(\\begin{array}{rrrrrrrr}\n",
       "-1 & 1 & 0 & 0 & 0 & 0 & 0 & 0 \\\\\n",
       "0 & -1 & -1 & -1 & 1 & 0 & 0 & 0 \\\\\n",
       "0 & 0 & 0 & 0 & -1 & -1 & 0 & 0 \\\\\n",
       "1 & 0 & 1 & 0 & 0 & 0 & -1 & 0 \\\\\n",
       "0 & 0 & 0 & 1 & 0 & 1 & 1 & 1 \\\\\n",
       "0 & 0 & 0 & 0 & 0 & 0 & 0 & -1\n",
       "\\end{array}\\right)</script></html>"
      ],
      "text/latex": [
       "\\begin{math}\n",
       "\\newcommand{\\Bold}[1]{\\mathbf{#1}}\\verb|incidence|\\phantom{\\verb!x!}\\verb|matrix| \\left(\\begin{array}{rrrrrrrr}\n",
       "-1 & 1 & 0 & 0 & 0 & 0 & 0 & 0 \\\\\n",
       "0 & -1 & -1 & -1 & 1 & 0 & 0 & 0 \\\\\n",
       "0 & 0 & 0 & 0 & -1 & -1 & 0 & 0 \\\\\n",
       "1 & 0 & 1 & 0 & 0 & 0 & -1 & 0 \\\\\n",
       "0 & 0 & 0 & 1 & 0 & 1 & 1 & 1 \\\\\n",
       "0 & 0 & 0 & 0 & 0 & 0 & 0 & -1\n",
       "\\end{array}\\right)\n",
       "\\end{math}"
      ],
      "text/plain": [
       "'incidence matrix' [-1  1  0  0  0  0  0  0]\n",
       "[ 0 -1 -1 -1  1  0  0  0]\n",
       "[ 0  0  0  0 -1 -1  0  0]\n",
       "[ 1  0  1  0  0  0 -1  0]\n",
       "[ 0  0  0  1  0  1  1  1]\n",
       "[ 0  0  0  0  0  0  0 -1]"
      ]
     },
     "metadata": {},
     "output_type": "display_data"
    },
    {
     "name": "stdout",
     "output_type": "stream",
     "text": [
      "L=D-A is verified \n",
      "L=Q*QT is verified \n"
     ]
    }
   ],
   "source": [
    "g=Graph({1:[2,4],2:[4,5,3],3:[5],4:[5],6:[5]})\n",
    "the(g)"
   ]
  },
  {
   "cell_type": "code",
   "execution_count": 97,
   "id": "cleared-arrangement",
   "metadata": {},
   "outputs": [],
   "source": [
    "def prop_lap(G):\n",
    "    G.show(figsize=3)\n",
    "    L=G.laplacian_matrix()\n",
    "    show(\"laplacian matrix\",L)\n",
    "    e=L.eigenvalues()\n",
    "    for n in e:\n",
    "        if n<0:\n",
    "            print(\"it is not a semi definite positve matrix\")\n",
    "    print(\"it is a semi definite positve matrix\")\n",
    "    C=G.connected_components()\n",
    "    show(\"Connected componenets are\",C)\n",
    "    k=len(C)\n",
    "    r=rank(L)\n",
    "    n=G.order()\n",
    "    if r==n-k:\n",
    "        print(\"rank(L)=n-k\")\n",
    "    else:\n",
    "        print(\"not verified\")\n",
    "    c1=sum(L.columns())\n",
    "    show(c1)\n",
    "    r1=sum(L.rows())\n",
    "    show(r1)\n",
    "    for n in e:\n",
    "        if n==0:\n",
    "            print(\"0 is an eigen value\")\n",
    "            break\n",
    "    for i in range(n):\n",
    "        for j in range(n):\n",
    "            s=L.deleted_rows([i]).deleted_columns([j]).det()\n",
    "            if s!=0:\n",
    "                print(\"the cofacotrs are not same\")\n",
    "    print(\"the cofactors are same\")"
   ]
  },
  {
   "cell_type": "code",
   "execution_count": 98,
   "id": "beginning-subscription",
   "metadata": {},
   "outputs": [
    {
     "data": {
      "image/png": "[encoded data removed]",
      "text/plain": [
       "Graphics object consisting of 19 graphics primitives"
      ]
     },
     "metadata": {},
     "output_type": "display_data"
    },
    {
     "data": {
      "text/html": [
       "<html><script type=\"math/tex; mode=display\">\\newcommand{\\Bold}[1]{\\mathbf{#1}}\\verb|laplacian|\\phantom{\\verb!x!}\\verb|matrix| \\left(\\begin{array}{rrrrrrrrr}\n",
       "2 & -1 & -1 & 0 & 0 & 0 & 0 & 0 & 0 \\\\\n",
       "-1 & 2 & -1 & 0 & 0 & 0 & 0 & 0 & 0 \\\\\n",
       "-1 & -1 & 2 & 0 & 0 & 0 & 0 & 0 & 0 \\\\\n",
       "0 & 0 & 0 & 1 & -1 & 0 & 0 & 0 & 0 \\\\\n",
       "0 & 0 & 0 & -1 & 4 & -1 & -1 & -1 & 0 \\\\\n",
       "0 & 0 & 0 & 0 & -1 & 3 & -1 & -1 & 0 \\\\\n",
       "0 & 0 & 0 & 0 & -1 & -1 & 2 & 0 & 0 \\\\\n",
       "0 & 0 & 0 & 0 & -1 & -1 & 0 & 2 & 0 \\\\\n",
       "0 & 0 & 0 & 0 & 0 & 0 & 0 & 0 & 0\n",
       "\\end{array}\\right)</script></html>"
      ],
      "text/latex": [
       "\\begin{math}\n",
       "\\newcommand{\\Bold}[1]{\\mathbf{#1}}\\verb|laplacian|\\phantom{\\verb!x!}\\verb|matrix| \\left(\\begin{array}{rrrrrrrrr}\n",
       "2 & -1 & -1 & 0 & 0 & 0 & 0 & 0 & 0 \\\\\n",
       "-1 & 2 & -1 & 0 & 0 & 0 & 0 & 0 & 0 \\\\\n",
       "-1 & -1 & 2 & 0 & 0 & 0 & 0 & 0 & 0 \\\\\n",
       "0 & 0 & 0 & 1 & -1 & 0 & 0 & 0 & 0 \\\\\n",
       "0 & 0 & 0 & -1 & 4 & -1 & -1 & -1 & 0 \\\\\n",
       "0 & 0 & 0 & 0 & -1 & 3 & -1 & -1 & 0 \\\\\n",
       "0 & 0 & 0 & 0 & -1 & -1 & 2 & 0 & 0 \\\\\n",
       "0 & 0 & 0 & 0 & -1 & -1 & 0 & 2 & 0 \\\\\n",
       "0 & 0 & 0 & 0 & 0 & 0 & 0 & 0 & 0\n",
       "\\end{array}\\right)\n",
       "\\end{math}"
      ],
      "text/plain": [
       "'laplacian matrix' [ 2 -1 -1  0  0  0  0  0  0]\n",
       "[-1  2 -1  0  0  0  0  0  0]\n",
       "[-1 -1  2  0  0  0  0  0  0]\n",
       "[ 0  0  0  1 -1  0  0  0  0]\n",
       "[ 0  0  0 -1  4 -1 -1 -1  0]\n",
       "[ 0  0  0  0 -1  3 -1 -1  0]\n",
       "[ 0  0  0  0 -1 -1  2  0  0]\n",
       "[ 0  0  0  0 -1 -1  0  2  0]\n",
       "[ 0  0  0  0  0  0  0  0  0]"
      ]
     },
     "metadata": {},
     "output_type": "display_data"
    },
    {
     "name": "stdout",
     "output_type": "stream",
     "text": [
      "it is a semi definite positve matrix\n"
     ]
    },
    {
     "data": {
      "text/html": [
       "<html><script type=\"math/tex; mode=display\">\\newcommand{\\Bold}[1]{\\mathbf{#1}}\\verb|Connected|\\phantom{\\verb!x!}\\verb|componenets|\\phantom{\\verb!x!}\\verb|are| \\left[\\left[4, 5, 6, 7, 8\\right], \\left[1, 2, 3\\right], \\left[9\\right]\\right]</script></html>"
      ],
      "text/latex": [
       "\\begin{math}\n",
       "\\newcommand{\\Bold}[1]{\\mathbf{#1}}\\verb|Connected|\\phantom{\\verb!x!}\\verb|componenets|\\phantom{\\verb!x!}\\verb|are| \\left[\\left[4, 5, 6, 7, 8\\right], \\left[1, 2, 3\\right], \\left[9\\right]\\right]\n",
       "\\end{math}"
      ],
      "text/plain": [
       "'Connected componenets are' [[4, 5, 6, 7, 8], [1, 2, 3], [9]]"
      ]
     },
     "metadata": {},
     "output_type": "display_data"
    },
    {
     "name": "stdout",
     "output_type": "stream",
     "text": [
      "rank(L)=n-k\n"
     ]
    },
    {
     "data": {
      "text/html": [
       "<html><script type=\"math/tex; mode=display\">\\newcommand{\\Bold}[1]{\\mathbf{#1}}\\left(0,\\,0,\\,0,\\,0,\\,0,\\,0,\\,0,\\,0,\\,0\\right)</script></html>"
      ],
      "text/latex": [
       "\\begin{math}\n",
       "\\newcommand{\\Bold}[1]{\\mathbf{#1}}\\left(0,\\,0,\\,0,\\,0,\\,0,\\,0,\\,0,\\,0,\\,0\\right)\n",
       "\\end{math}"
      ],
      "text/plain": [
       "(0, 0, 0, 0, 0, 0, 0, 0, 0)"
      ]
     },
     "metadata": {},
     "output_type": "display_data"
    },
    {
     "data": {
      "text/html": [
       "<html><script type=\"math/tex; mode=display\">\\newcommand{\\Bold}[1]{\\mathbf{#1}}\\left(0,\\,0,\\,0,\\,0,\\,0,\\,0,\\,0,\\,0,\\,0\\right)</script></html>"
      ],
      "text/latex": [
       "\\begin{math}\n",
       "\\newcommand{\\Bold}[1]{\\mathbf{#1}}\\left(0,\\,0,\\,0,\\,0,\\,0,\\,0,\\,0,\\,0,\\,0\\right)\n",
       "\\end{math}"
      ],
      "text/plain": [
       "(0, 0, 0, 0, 0, 0, 0, 0, 0)"
      ]
     },
     "metadata": {},
     "output_type": "display_data"
    },
    {
     "name": "stdout",
     "output_type": "stream",
     "text": [
      "0 is an eigen value\n",
      "the cofactors are same\n"
     ]
    }
   ],
   "source": [
    "g1=Graph({1:[2,3],2:[3],4:[5],5:[6,7,8],6:[7,8],9:[]})\n",
    "prop_lap(g1)"
   ]
  },
  {
   "cell_type": "code",
   "execution_count": null,
   "id": "advanced-catalog",
   "metadata": {},
   "outputs": [],
   "source": []
  },
  {
   "cell_type": "code",
   "execution_count": null,
   "id": "hybrid-charter",
   "metadata": {},
   "outputs": [],
   "source": []
  }
 ],
 "metadata": {
  "kernelspec": {
   "display_name": "SageMath 9.2",
   "language": "sage",
   "name": "sagemath"
  },
  "language_info": {
   "codemirror_mode": {
    "name": "ipython",
    "version": 3
   },
   "file_extension": ".py",
   "mimetype": "text/x-python",
   "name": "python",
   "nbconvert_exporter": "python",
   "pygments_lexer": "ipython3",
   "version": "3.9.2"
  }
 },
 "nbformat": 4,
 "nbformat_minor": 5
}
